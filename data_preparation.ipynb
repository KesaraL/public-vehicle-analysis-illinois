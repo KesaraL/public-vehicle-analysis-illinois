{
 "cells": [
  {
   "cell_type": "code",
   "execution_count": null,
   "metadata": {},
   "outputs": [
    {
     "ename": "",
     "evalue": "",
     "output_type": "error",
     "traceback": [
      "\u001b[1;31mFailed to start the Kernel. \n",
      "\u001b[1;31mUnable to start Kernel 'Python 3.13.0' due to a timeout waiting for the ports to get used. \n",
      "\u001b[1;31mView Jupyter <a href='command:jupyter.viewOutput'>log</a> for further details."
     ]
    }
   ],
   "source": [
    "import pandas as pd\n",
    "import glob\n",
    "\n",
    "# Define the directory where your CSV files are stored\n",
    "csv_directory = \"./PassengerVehicle_Stats/\"  # Replace with the directory path\n",
    "\n",
    "# Use glob to load all CSV files in the directory into a list\n",
    "csv_files = glob.glob(csv_directory + \"*.csv\")\n",
    "try:\n",
    "        # Check if we have 9 files and load them into a list\n",
    "    if len(csv_files) == 9:\n",
    "        print(f\"Found {len(csv_files)} CSV files.\")\n",
    "        \n",
    "        # Load all CSV files into a list of DataFrames\n",
    "        csv_data_list = [pd.read_csv(file) for file in csv_files]\n",
    "\n",
    "        # Concatenate the list of DataFrames into a single DataFrame\n",
    "        vehicles_df = pd.concat(csv_data_list, ignore_index=True)\n",
    "\n",
    "        # Optionally, save the combined DataFrame to a new CSV file\n",
    "        vehicles_df.to_csv(\"combined_vehicles_data.csv\", index=False)\n",
    "        print(\"Combined DataFrame saved to 'combined_vehicles_data.csv'.\")\n",
    "    else:\n",
    "        print(f\"Expected 9 CSV files, but found {len(csv_files)}. Please check your directory.\")\n",
    "\n",
    "except Exception as e:\n",
    "    print(f\"Error occurred: {e}\")"
   ]
  },
  {
   "cell_type": "code",
   "execution_count": null,
   "metadata": {},
   "outputs": [],
   "source": [
    "#Data types of the variables\n",
    "print(vehicles_df.info())\n"
   ]
  },
  {
   "cell_type": "code",
   "execution_count": null,
   "metadata": {},
   "outputs": [],
   "source": [
    "#First few records of the vehicles data frame\n",
    "print(vehicles_df.head())\n"
   ]
  },
  {
   "cell_type": "code",
   "execution_count": null,
   "metadata": {},
   "outputs": [],
   "source": [
    "# All the variables consisit with qualitative nature\n",
    "#Identifying the mode of variables\n",
    "qualitative_columns = vehicles_df.select_dtypes(include=['object', 'category']).columns\n",
    "mode_values = vehicles_df[qualitative_columns.drop('Record ID')].mode()\n",
    "print(\"Mode values for each qualitative variable:\")\n",
    "print(mode_values)"
   ]
  },
  {
   "cell_type": "code",
   "execution_count": null,
   "metadata": {},
   "outputs": [],
   "source": [
    "#obtaining counts of each status\n",
    "status_category_counts = vehicles_df['Status'].value_counts()\n",
    "\n",
    "print(status_category_counts)"
   ]
  },
  {
   "cell_type": "code",
   "execution_count": null,
   "metadata": {},
   "outputs": [],
   "source": [
    "#Wheel chair accessibility \n",
    "wheelchair_category_counts = vehicles_df['Wheelchair Accessible'].value_counts()\n",
    "\n",
    "print(wheelchair_category_counts)"
   ]
  },
  {
   "cell_type": "code",
   "execution_count": null,
   "metadata": {},
   "outputs": [],
   "source": [
    "#Fuel type variation\n",
    "fuel_category_counts = vehicles_df['Vehicle Fuel Source'].value_counts()\n",
    "\n",
    "print(fuel_category_counts)"
   ]
  },
  {
   "cell_type": "code",
   "execution_count": null,
   "metadata": {},
   "outputs": [],
   "source": [
    "#Detecting Duplicates\n",
    "duplicates = vehicles_df[vehicles_df.duplicated(subset='Public Vehicle Number', keep=False)]\n",
    "print(duplicates)\n",
    "len(duplicates)\n"
   ]
  },
  {
   "cell_type": "code",
   "execution_count": null,
   "metadata": {},
   "outputs": [],
   "source": [
    "#Removing Duplicates\n",
    "vehicles_df = vehicles_df.drop_duplicates(subset=['Public Vehicle Number'], keep='first')\n",
    "print(vehicles_df)\n",
    "vehicles_df.to_csv('cleaned_vehicles.csv', index=False)"
   ]
  },
  {
   "cell_type": "code",
   "execution_count": null,
   "metadata": {},
   "outputs": [],
   "source": [
    "#Identifying null value percentages of variables\n",
    "missing_percentage = (vehicles_df.isnull().sum() / len(vehicles_df)) * 100\n",
    "print(missing_percentage)"
   ]
  },
  {
   "cell_type": "code",
   "execution_count": null,
   "metadata": {},
   "outputs": [],
   "source": [
    "#Import matplotlib\n",
    "import matplotlib.pyplot as plt\n"
   ]
  },
  {
   "cell_type": "code",
   "execution_count": null,
   "metadata": {},
   "outputs": [],
   "source": [
    "#Plot Null value percentages\n",
    "plt.figure(figsize=(8, 5))\n",
    "missing_percentage.sort_values(ascending=False).plot(kind='bar', color='skyblue', edgecolor='black')\n",
    "plt.title('Percentage of Null Values by Column', fontsize=14)\n",
    "plt.ylabel('Percentage (%)', fontsize=12)\n",
    "plt.xlabel('Columns', fontsize=12)\n",
    "plt.xticks(rotation=45, ha='right')\n",
    "plt.tight_layout()\n",
    "plt.show()\n"
   ]
  },
  {
   "cell_type": "markdown",
   "metadata": {},
   "source": [
    "Since there are more than 50% of null values for \"Taxi Medallion License Management\" and \"Taxi Affiliation\", those two variables should removed."
   ]
  },
  {
   "cell_type": "code",
   "execution_count": null,
   "metadata": {},
   "outputs": [],
   "source": [
    "#Removing \"Taxi Medallion License Management\" and \"Taxi Affiliation\"  columns from the dataset\n",
    "\n",
    "columns_to_drop = [\"Taxi Affiliation\", \"Taxi Medallion License Management\"] \n",
    "vehicles_df = vehicles_df.drop(columns=columns_to_drop, errors='ignore')\n",
    "\n"
   ]
  },
  {
   "cell_type": "code",
   "execution_count": null,
   "metadata": {},
   "outputs": [],
   "source": [
    "# Save the updated DataFrame to a new CSV file\n",
    "vehicles_df.to_csv(\"updated_combined_vehicles_data.csv\", index=False)\n",
    "print(\"Updated DataFrame saved to 'updated_combined_vehicles_data.csv'.\")"
   ]
  }
 ],
 "metadata": {
  "kernelspec": {
   "display_name": "Python 3",
   "language": "python",
   "name": "python3"
  },
  "language_info": {
   "codemirror_mode": {
    "name": "ipython",
    "version": 3
   },
   "file_extension": ".py",
   "mimetype": "text/x-python",
   "name": "python",
   "nbconvert_exporter": "python",
   "pygments_lexer": "ipython3",
   "version": "3.13.0"
  }
 },
 "nbformat": 4,
 "nbformat_minor": 2
}
