{
 "cells": [
  {
   "cell_type": "code",
   "execution_count": 1,
   "metadata": {},
   "outputs": [
    {
     "name": "stdout",
     "output_type": "stream",
     "text": [
      "Found 9 CSV files.\n",
      "Combined DataFrame saved to 'combined_vehicles_data.csv'.\n"
     ]
    }
   ],
   "source": [
    "import pandas as pd\n",
    "import glob\n",
    "\n",
    "# Define the directory where your CSV files are stored\n",
    "csv_directory = \"./PassengerVehicle_Stats/\"  # Replace with the directory path\n",
    "\n",
    "# Use glob to load all CSV files in the directory into a list\n",
    "csv_files = glob.glob(csv_directory + \"*.csv\")\n",
    "try:\n",
    "        # Check if we have 9 files and load them into a list\n",
    "    if len(csv_files) == 9:\n",
    "        print(f\"Found {len(csv_files)} CSV files.\")\n",
    "        \n",
    "        # Load all CSV files into a list of DataFrames\n",
    "        csv_data_list = [pd.read_csv(file) for file in csv_files]\n",
    "\n",
    "        # Concatenate the list of DataFrames into a single DataFrame\n",
    "        vehicles_df = pd.concat(csv_data_list, ignore_index=True)\n",
    "\n",
    "        # Optionally, save the combined DataFrame to a new CSV file\n",
    "        vehicles_df.to_csv(\"combined_vehicles_data.csv\", index=False)\n",
    "        print(\"Combined DataFrame saved to 'combined_vehicles_data.csv'.\")\n",
    "    else:\n",
    "        print(f\"Expected 9 CSV files, but found {len(csv_files)}. Please check your directory.\")\n",
    "\n",
    "except Exception as e:\n",
    "    print(f\"Error occurred: {e}\")"
   ]
  },
  {
   "cell_type": "code",
   "execution_count": null,
   "metadata": {},
   "outputs": [
    {
     "name": "stdout",
     "output_type": "stream",
     "text": [
      "<class 'pandas.core.frame.DataFrame'>\n",
      "RangeIndex: 16602 entries, 0 to 16601\n",
      "Data columns (total 17 columns):\n",
      " #   Column                              Non-Null Count  Dtype  \n",
      "---  ------                              --------------  -----  \n",
      " 0   Unnamed: 0                          16602 non-null  int64  \n",
      " 1   Public Vehicle Number               16602 non-null  int64  \n",
      " 2   Status                              16602 non-null  object \n",
      " 3   Vehicle Make                        14685 non-null  object \n",
      " 4   Vehicle Model                       14639 non-null  object \n",
      " 5   Vehicle Model Year                  14660 non-null  float64\n",
      " 6   Vehicle Color                       14616 non-null  object \n",
      " 7   Vehicle Fuel Source                 16602 non-null  object \n",
      " 8   Wheelchair Accessible               16602 non-null  object \n",
      " 9   Company Name                        16602 non-null  object \n",
      " 10  Address                             14816 non-null  object \n",
      " 11  City                                14816 non-null  object \n",
      " 12  State                               14816 non-null  object \n",
      " 13  ZIP Code                            14816 non-null  float64\n",
      " 14  Taxi Affiliation                    7348 non-null   object \n",
      " 15  Taxi Medallion License Management   7321 non-null   object \n",
      " 16  Record ID                           16602 non-null  object \n",
      "dtypes: float64(2), int64(2), object(13)\n",
      "memory usage: 2.2+ MB\n",
      "None\n"
     ]
    }
   ],
   "source": [
    "#Data types of the variables\n",
    "print(vehicles_df.info())\n"
   ]
  },
  {
   "cell_type": "code",
   "execution_count": 2,
   "metadata": {},
   "outputs": [
    {
     "name": "stdout",
     "output_type": "stream",
     "text": [
      "   Index  Public Vehicle Number    Status Vehicle Make Vehicle Model  \\\n",
      "0   1286                  12009  RESERVED    CHEVROLET       EXPRESS   \n",
      "1   2095                  12248  INACTIVE     MERCEDES      SPRINTER   \n",
      "2   7950                  13527  INACTIVE     VAN HOOL         TD925   \n",
      "3   8700                  12248  INACTIVE     MERCEDES      SPRINTER   \n",
      "4   9359                  13528  INACTIVE     VAN HOOL         TD925   \n",
      "\n",
      "   Vehicle Model Year Vehicle Color Vehicle Fuel Source Wheelchair Accessible  \\\n",
      "0              2014.0         BLACK          Bio-Diesel                     N   \n",
      "1              2010.0        SILVER          Bio-Diesel                     N   \n",
      "2              2008.0           RED          Bio-Diesel                     N   \n",
      "3              2010.0        SILVER          Bio-Diesel                     N   \n",
      "4              2008.0           RED          Bio-Diesel                     N   \n",
      "\n",
      "                              Company Name                 Address     City  \\\n",
      "0                CHICAGO PRIVATE TOURS LLC  4567 S. OAKENWALD AVE.  CHICAGO   \n",
      "1  O'HARE-MIDWAY LIMOUSINE SERVICE INC # 2       4610 N. CLARK ST.  CHICAGO   \n",
      "2                 TRT TRANSPORTATION, INC.     4400 S. RACINE AVE.  CHICAGO   \n",
      "3  O'HARE-MIDWAY LIMOUSINE SERVICE INC # 2       4610 N. CLARK ST.  CHICAGO   \n",
      "4                 TRT TRANSPORTATION, INC.     4400 S. RACINE AVE.  CHICAGO   \n",
      "\n",
      "  State  ZIP Code Taxi Affiliation Taxi Medallion License Management   \\\n",
      "0    IL   60653.0              NaN                                NaN   \n",
      "1    IL   60640.0              NaN                                NaN   \n",
      "2    IL   60609.0              NaN                                NaN   \n",
      "3    IL   60640.0              NaN                                NaN   \n",
      "4    IL   60609.0              NaN                                NaN   \n",
      "\n",
      "                  Record ID  \n",
      "0  12009Charter Sightseeing  \n",
      "1  12248Charter Sightseeing  \n",
      "2  13527Charter Sightseeing  \n",
      "3  12248Charter Sightseeing  \n",
      "4  13528Charter Sightseeing  \n"
     ]
    }
   ],
   "source": [
    "#First few records of the vehicles data frame\n",
    "print(vehicles_df.head())\n"
   ]
  },
  {
   "cell_type": "code",
   "execution_count": 3,
   "metadata": {},
   "outputs": [
    {
     "name": "stdout",
     "output_type": "stream",
     "text": [
      "Mode values for each qualitative variable:\n",
      "   Status Vehicle Make Vehicle Model Vehicle Color Vehicle Fuel Source  \\\n",
      "0  ACTIVE       TOYOTA         CAMRY         WHITE            Gasoline   \n",
      "\n",
      "  Wheelchair Accessible          Company Name                 Address  \\\n",
      "0                     N  CITY OF CHICAGO BACP  3800 N. MILWAUKEE AVE.   \n",
      "\n",
      "      City State Taxi Affiliation Taxi Medallion License Management   \n",
      "0  CHICAGO    IL   DIS-AFFILIATED                      Owner Manager  \n"
     ]
    }
   ],
   "source": [
    "# All the variables consisit with qualitative nature\n",
    "#Identifying the mode of variables\n",
    "qualitative_columns = vehicles_df.select_dtypes(include=['object', 'category']).columns\n",
    "mode_values = vehicles_df[qualitative_columns.drop('Record ID')].mode()\n",
    "print(\"Mode values for each qualitative variable:\")\n",
    "print(mode_values)"
   ]
  },
  {
   "cell_type": "code",
   "execution_count": null,
   "metadata": {},
   "outputs": [
    {
     "name": "stdout",
     "output_type": "stream",
     "text": [
      "Status\n",
      "ACTIVE         7222\n",
      "VIOLATION      3974\n",
      "INACTIVE       3702\n",
      "SURRENDER       888\n",
      "RESERVED        582\n",
      "REVOKED         147\n",
      "FORECLOSURE      82\n",
      "HOLD              5\n",
      "Name: count, dtype: int64\n"
     ]
    }
   ],
   "source": [
    "#obtaining counts of each status\n",
    "status_category_counts = vehicles_df['Status'].value_counts()\n",
    "\n",
    "print(status_category_counts)"
   ]
  },
  {
   "cell_type": "code",
   "execution_count": null,
   "metadata": {},
   "outputs": [
    {
     "name": "stdout",
     "output_type": "stream",
     "text": [
      "Wheelchair Accessible\n",
      "N    15978\n",
      "Y      624\n",
      "Name: count, dtype: int64\n"
     ]
    }
   ],
   "source": [
    "#Wheel chair accessibility \n",
    "wheelchair_category_counts = vehicles_df['Wheelchair Accessible'].value_counts()\n",
    "\n",
    "print(wheelchair_category_counts)"
   ]
  },
  {
   "cell_type": "code",
   "execution_count": null,
   "metadata": {},
   "outputs": [
    {
     "name": "stdout",
     "output_type": "stream",
     "text": [
      "Vehicle Fuel Source\n",
      "Gasoline                  9938\n",
      "Hybrid                    5969\n",
      "Pedal                      215\n",
      "Flex Fuel                  192\n",
      "Diesel                      96\n",
      "Compressed Natural Gas      91\n",
      "Horse                       59\n",
      "Electric                    33\n",
      "Bio-Diesel                   9\n",
      "Name: count, dtype: int64\n"
     ]
    }
   ],
   "source": [
    "#Fuel type variation\n",
    "fuel_category_counts = vehicles_df['Vehicle Fuel Source'].value_counts()\n",
    "\n",
    "print(fuel_category_counts)"
   ]
  },
  {
   "cell_type": "code",
   "execution_count": null,
   "metadata": {},
   "outputs": [
    {
     "name": "stdout",
     "output_type": "stream",
     "text": [
      "       Index  Public Vehicle Number     Status Vehicle Make  Vehicle Model  \\\n",
      "1       2095                  12248   INACTIVE     MERCEDES       SPRINTER   \n",
      "3       8700                  12248   INACTIVE     MERCEDES       SPRINTER   \n",
      "15      1619                    862  VIOLATION       TOYOTA        COROLLA   \n",
      "29      4667                  13634   INACTIVE        DODGE  GRAND CARAVAN   \n",
      "31      5259                   6870  VIOLATION         FORD         ESCAPE   \n",
      "...      ...                    ...        ...          ...            ...   \n",
      "16597  16143                     42     ACTIVE    PRECISION       6 SEATER   \n",
      "16598  16151                     52     ACTIVE      SCHWINN           NONE   \n",
      "16599  16216                     70  VIOLATION   MAINSTREET        CLASSIC   \n",
      "16600  16229                     57  VIOLATION   MAINSTREET      BOARDWALK   \n",
      "16601  16281                    117     ACTIVE      SCHWINN           NONE   \n",
      "\n",
      "       Vehicle Model Year Vehicle Color     Vehicle Fuel Source  \\\n",
      "1                  2010.0        SILVER              Bio-Diesel   \n",
      "3                  2010.0        SILVER              Bio-Diesel   \n",
      "15                 2017.0         WHITE  Compressed Natural Gas   \n",
      "29                 2011.0        SILVER  Compressed Natural Gas   \n",
      "31                 2011.0         GREEN  Compressed Natural Gas   \n",
      "...                   ...           ...                     ...   \n",
      "16597              2020.0        FUSCIA                   Pedal   \n",
      "16598              2014.0         GREEN                   Pedal   \n",
      "16599                 0.0     RED/BLACK                   Pedal   \n",
      "16600              2011.0           RED                   Pedal   \n",
      "16601              2014.0         GREEN                   Pedal   \n",
      "\n",
      "      Wheelchair Accessible                             Company Name  \\\n",
      "1                         N  O'HARE-MIDWAY LIMOUSINE SERVICE INC # 2   \n",
      "3                         N  O'HARE-MIDWAY LIMOUSINE SERVICE INC # 2   \n",
      "15                        N                          PETANI CAB CORP   \n",
      "29                        N         SCR MEDICAL TRANSPORTATION, INC.   \n",
      "31                        N                       ARIES TAXI CAB INC   \n",
      "...                     ...                                      ...   \n",
      "16597                     N               JBL PEDICAB MANAGEMENT LLC   \n",
      "16598                     N                          BM PEDICAB INC.   \n",
      "16599                     N                       EMPIRE PEDICAB LLC   \n",
      "16600                     N                       CARGILL C KELLY II   \n",
      "16601                     N                          BM PEDICAB INC.   \n",
      "\n",
      "                      Address     City State  ZIP Code  \\\n",
      "1           4610 N. CLARK ST.  CHICAGO    IL   60640.0   \n",
      "3           4610 N. CLARK ST.  CHICAGO    IL   60640.0   \n",
      "15      2945 W. PETERSON AVE.  CHICAGO    IL   60659.0   \n",
      "29     8801 S. GREENWOOD AVE.  CHICAGO    IL   60619.0   \n",
      "31       6500 N. WESTERN AVE.  CHICAGO    IL   60645.0   \n",
      "...                       ...      ...   ...       ...   \n",
      "16597      1627 N. TRIPP AVE.  CHICAGO    IL   60639.0   \n",
      "16598     4450 N. KEDZIE AVE.  CHICAGO    IL   60625.0   \n",
      "16599        318 W. ADAMS ST.  CHICAGO    IL   60606.0   \n",
      "16600        2428 W. 24TH PL.  CHICAGO    IL   60608.0   \n",
      "16601     4450 N. KEDZIE AVE.  CHICAGO    IL   60625.0   \n",
      "\n",
      "                Taxi Affiliation      Taxi Medallion License Management   \\\n",
      "1                            NaN                                     NaN   \n",
      "3                            NaN                                     NaN   \n",
      "15           Top Cab Association                           Top Cab Corp.   \n",
      "29                           NaN                                     NaN   \n",
      "31     TAXI TOWN AFFILIATION LLC  Medallion Leasing and Management, Inc.   \n",
      "...                          ...                                     ...   \n",
      "16597                        NaN                                     NaN   \n",
      "16598                        NaN                                     NaN   \n",
      "16599                        NaN                                     NaN   \n",
      "16600                        NaN                                     NaN   \n",
      "16601                        NaN                                     NaN   \n",
      "\n",
      "                      Record ID  \n",
      "1      12248Charter Sightseeing  \n",
      "3      12248Charter Sightseeing  \n",
      "15                      862Taxi  \n",
      "29                 13634Medicar  \n",
      "31                     6870Taxi  \n",
      "...                         ...  \n",
      "16597                 42Pedicab  \n",
      "16598                 52Pedicab  \n",
      "16599                 70Pedicab  \n",
      "16600                 57Pedicab  \n",
      "16601                117Pedicab  \n",
      "\n",
      "[4008 rows x 17 columns]\n"
     ]
    },
    {
     "data": {
      "text/plain": [
       "4008"
      ]
     },
     "execution_count": 10,
     "metadata": {},
     "output_type": "execute_result"
    }
   ],
   "source": [
    "#Detecting Duplicates\n",
    "duplicates = vehicles_df[vehicles_df.duplicated(subset='Public Vehicle Number', keep=False)]\n",
    "print(duplicates)\n",
    "len(duplicates)\n"
   ]
  },
  {
   "cell_type": "code",
   "execution_count": 17,
   "metadata": {},
   "outputs": [
    {
     "name": "stdout",
     "output_type": "stream",
     "text": [
      "       Index  Public Vehicle Number     Status Vehicle Make Vehicle Model  \\\n",
      "0       1286                  12009   RESERVED    CHEVROLET       EXPRESS   \n",
      "2       7950                  13527   INACTIVE     VAN HOOL         TD925   \n",
      "4       9359                  13528   INACTIVE     VAN HOOL         TD925   \n",
      "5       9441                  12025   INACTIVE     MERCEDES      SPRINTER   \n",
      "6       9505                  13513   INACTIVE     VAN HOOL         TD925   \n",
      "...      ...                    ...        ...          ...           ...   \n",
      "16382  16576                    998  VIOLATION       TOYOTA         CAMRY   \n",
      "16383  16583                   3810     ACTIVE       TOYOTA          RAV4   \n",
      "16384  16590                   4690  VIOLATION       TOYOTA         CAMRY   \n",
      "16385  16592                   2831     ACTIVE       TOYOTA         PRIUS   \n",
      "16386  16596                   1509     ACTIVE       TOYOTA        SIENNA   \n",
      "\n",
      "       Vehicle Model Year Vehicle Color Vehicle Fuel Source  \\\n",
      "0                  2014.0         BLACK          Bio-Diesel   \n",
      "2                  2008.0           RED          Bio-Diesel   \n",
      "4                  2008.0           RED          Bio-Diesel   \n",
      "5                  2015.0         BLACK          Bio-Diesel   \n",
      "6                  2008.0           RED          Bio-Diesel   \n",
      "...                   ...           ...                 ...   \n",
      "16382              2012.0         WHITE              Hybrid   \n",
      "16383              2017.0    GRAY/WHITE              Hybrid   \n",
      "16384              2014.0         WHITE              Hybrid   \n",
      "16385              2012.0         WHITE              Hybrid   \n",
      "16386              2023.0         WHITE              Hybrid   \n",
      "\n",
      "      Wheelchair Accessible                             Company Name  \\\n",
      "0                         N                CHICAGO PRIVATE TOURS LLC   \n",
      "2                         N                 TRT TRANSPORTATION, INC.   \n",
      "4                         N                 TRT TRANSPORTATION, INC.   \n",
      "5                         N  O'HARE-MIDWAY LIMOUSINE SERVICE INC # 2   \n",
      "6                         N                 TRT TRANSPORTATION, INC.   \n",
      "...                     ...                                      ...   \n",
      "16382                     N                          AGOMONY CAB INC   \n",
      "16383                     N               FENKIL ASMERA TAXI COMPANY   \n",
      "16384                     N                        MURIELLE CADICHON   \n",
      "16385                     N                            G S TRANS INC   \n",
      "16386                     Y                           J A SHALOM LLC   \n",
      "\n",
      "                        Address     City State  ZIP Code  \\\n",
      "0        4567 S. OAKENWALD AVE.  CHICAGO    IL   60653.0   \n",
      "2           4400 S. RACINE AVE.  CHICAGO    IL   60609.0   \n",
      "4           4400 S. RACINE AVE.  CHICAGO    IL   60609.0   \n",
      "5             4610 N. CLARK ST.  CHICAGO    IL   60640.0   \n",
      "6           4400 S. RACINE AVE.  CHICAGO    IL   60609.0   \n",
      "...                         ...      ...   ...       ...   \n",
      "16382     2601 W. PETERSON AVE.  CHICAGO    IL   60659.0   \n",
      "16383  820 W. BELLE PLAINE AVE.  CHICAGO    IL   60613.0   \n",
      "16384         1736 W. 105TH PL.  CHICAGO    IL   60643.0   \n",
      "16385     2601 W. PETERSON AVE.  CHICAGO    IL   60659.0   \n",
      "16386      2532 W. WARREN BLVD.  CHICAGO    IL   60612.0   \n",
      "\n",
      "                    Taxi Affiliation Taxi Medallion License Management   \\\n",
      "0                                NaN                                NaN   \n",
      "2                                NaN                                NaN   \n",
      "4                                NaN                                NaN   \n",
      "5                                NaN                                NaN   \n",
      "6                                NaN                                NaN   \n",
      "...                              ...                                ...   \n",
      "16382                 DIS-AFFILIATED                      Owner Manager   \n",
      "16383    Choice Taxi Association Inc                      Owner Manager   \n",
      "16384                 DIS-AFFILIATED                     Owner-Operator   \n",
      "16385  City Service Taxi Association                      Owner Manager   \n",
      "16386                   Independent1                     Owner-Operator   \n",
      "\n",
      "                      Record ID  \n",
      "0      12009Charter Sightseeing  \n",
      "2      13527Charter Sightseeing  \n",
      "4      13528Charter Sightseeing  \n",
      "5      12025Charter Sightseeing  \n",
      "6      13513Charter Sightseeing  \n",
      "...                         ...  \n",
      "16382                   998Taxi  \n",
      "16383                  3810Taxi  \n",
      "16384                  4690Taxi  \n",
      "16385                  2831Taxi  \n",
      "16386                  1509Taxi  \n",
      "\n",
      "[12594 rows x 17 columns]\n"
     ]
    }
   ],
   "source": [
    "#Removing Duplicates\n",
    "vehicles_df = vehicles_df.drop_duplicates(subset=['Public Vehicle Number'], keep='first')\n",
    "print(vehicles_df)\n",
    "vehicles_df.to_csv('cleaned_vehicles.csv', index=False)"
   ]
  }
 ],
 "metadata": {
  "kernelspec": {
   "display_name": "venv",
   "language": "python",
   "name": "python3"
  },
  "language_info": {
   "codemirror_mode": {
    "name": "ipython",
    "version": 3
   },
   "file_extension": ".py",
   "mimetype": "text/x-python",
   "name": "python",
   "nbconvert_exporter": "python",
   "pygments_lexer": "ipython3",
   "version": "3.12.7"
  }
 },
 "nbformat": 4,
 "nbformat_minor": 2
}
