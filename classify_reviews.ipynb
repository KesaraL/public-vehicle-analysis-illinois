{
 "cells": [
  {
   "cell_type": "code",
   "execution_count": null,
   "metadata": {},
   "outputs": [],
   "source": []
  },
  {
   "cell_type": "code",
   "execution_count": null,
   "metadata": {},
   "outputs": [],
   "source": [
    "# Import necessary libraries\n",
    "from transformers import pipeline\n",
    "import pandas as pd\n",
    "\n",
    "# Load the dataset\n",
    "df = pd.read_csv('car_reviews.csv')\n",
    "\n",
    "# Define the categories for classification\n",
    "categories = [\n",
    "    \"talks about driving experience\",\n",
    "    \"talks about features\",\n",
    "    \"talks about value for money\",\n",
    "    \"talks about issues\",\n",
    "    \"other\"  \n",
    "]\n",
    "\n",
    "# Initialize the zero-shot classification pipeline\n",
    "classifier = pipeline(\"zero-shot-classification\", model=\"facebook/bart-large-mnli\")\n",
    "\n",
    "# Function to classify a single review\n",
    "def classify_review(review):\n",
    "    try:\n",
    "        result = classifier(review, candidate_labels=categories)\n",
    "        return result['labels'][0]  # Return the label with the highest score\n",
    "    except Exception as e:\n",
    "        return \"error\"  # Handle exceptions and return \"error\" for problematic reviews\n",
    "\n",
    "# Apply classification to each review\n",
    "df['talks_about'] = df['Review'].apply(classify_review)\n",
    "\n",
    "# Save the updated dataset\n",
    "df.to_csv('classified_car_reviews.csv', index=False)\n",
    "\n",
    "# Display the first few rows of the updated dataset\n",
    "print(df.head())"
   ]
  }
 ],
 "metadata": {
  "kernelspec": {
   "display_name": ".env",
   "language": "python",
   "name": "python3"
  },
  "language_info": {
   "name": "python",
   "version": "3.12.7"
  }
 },
 "nbformat": 4,
 "nbformat_minor": 2
}
